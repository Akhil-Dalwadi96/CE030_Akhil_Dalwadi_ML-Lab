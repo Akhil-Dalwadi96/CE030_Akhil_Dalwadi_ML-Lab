{
  "nbformat": 4,
  "nbformat_minor": 0,
  "metadata": {
    "colab": {
      "name": "Untitled6.ipynb",
      "provenance": []
    },
    "kernelspec": {
      "name": "python3",
      "display_name": "Python 3"
    },
    "language_info": {
      "name": "python"
    }
  },
  "cells": [
    {
      "cell_type": "code",
      "execution_count": 1,
      "metadata": {
        "colab": {
          "base_uri": "https://localhost:8080/"
        },
        "id": "0hfPh4O4bRrk",
        "outputId": "dc45ea66-8dda-4a4b-bfee-affb7fbd15ba"
      },
      "outputs": [
        {
          "output_type": "stream",
          "name": "stdout",
          "text": [
            "\n",
            "Data :\n",
            "    Outlook Temp Wind Humidity Class\n",
            "0        R    H    F   Normal     N\n",
            "1        R    H    T     High     N\n",
            "2        O    H    F   Normal     Y\n",
            "3        S    M    F   Normal     N\n",
            "4        S    M    F   Normal     Y\n",
            "5        S    M    T      Low     Y\n",
            "6        O    C    T   Normal     Y\n",
            "7        R    C    F   Normal     Y\n",
            "8        R    C    F      Low     Y\n",
            "9        S    M    F     High     Y\n",
            "10       R    M    T     High     Y\n",
            "11       O    M    T      Low     Y\n",
            "12       O    H    F   Normal     Y\n",
            "13       S    M    T   Normal     N\n",
            "\n",
            "Data statistics\n",
            "        Outlook Temp Wind Humidity Class\n",
            "count       14   14   14       14    14\n",
            "unique       3    3    2        3     2\n",
            "top          R    M    F   Normal     Y\n",
            "freq         5    7    8        8    10\n"
          ]
        }
      ],
      "source": [
        "import numpy as np \n",
        "import pandas as pd\n",
        "from sklearn.preprocessing import LabelEncoder,OneHotEncoder\n",
        "\n",
        "datasets = pd.read_csv('/content/Dataset2.csv') \n",
        "print(\"\\nData :\\n\",datasets)\n",
        "print(\"\\nData statistics\\n\",datasets.describe())"
      ]
    },
    {
      "cell_type": "code",
      "source": [
        "features = datasets.iloc[:,:-1]\n",
        "play = datasets.iloc[:,-1].values"
      ],
      "metadata": {
        "id": "jIwrWY40b9a1"
      },
      "execution_count": 2,
      "outputs": []
    },
    {
      "cell_type": "code",
      "source": [
        "oneHotEncoder = OneHotEncoder()\n",
        "x = oneHotEncoder.fit_transform(features.Outlook.values.reshape(-1,1)).toarray()\n",
        "x"
      ],
      "metadata": {
        "colab": {
          "base_uri": "https://localhost:8080/"
        },
        "id": "FhOM4_OOcCQQ",
        "outputId": "2fd2062f-d135-47d0-d609-7035e9199dc1"
      },
      "execution_count": 3,
      "outputs": [
        {
          "output_type": "execute_result",
          "data": {
            "text/plain": [
              "array([[0., 1., 0.],\n",
              "       [0., 1., 0.],\n",
              "       [1., 0., 0.],\n",
              "       [0., 0., 1.],\n",
              "       [0., 0., 1.],\n",
              "       [0., 0., 1.],\n",
              "       [1., 0., 0.],\n",
              "       [0., 1., 0.],\n",
              "       [0., 1., 0.],\n",
              "       [0., 0., 1.],\n",
              "       [0., 1., 0.],\n",
              "       [1., 0., 0.],\n",
              "       [1., 0., 0.],\n",
              "       [0., 0., 1.]])"
            ]
          },
          "metadata": {},
          "execution_count": 3
        }
      ]
    },
    {
      "cell_type": "code",
      "source": [
        "dfOneHot = pd.DataFrame(x, columns = features.Outlook.unique().tolist()) \n",
        "df = pd.concat([features, dfOneHot], axis=1) \n",
        "\n",
        "df= df.drop(['Outlook'], axis=1) \n",
        "\n",
        "print(df.head())"
      ],
      "metadata": {
        "colab": {
          "base_uri": "https://localhost:8080/"
        },
        "id": "HQ_c0JzQcFve",
        "outputId": "d0f63d12-d0bc-45cf-eafc-e8c6a7c10c9b"
      },
      "execution_count": 4,
      "outputs": [
        {
          "output_type": "stream",
          "name": "stdout",
          "text": [
            "  Temp Wind Humidity    R    O    S\n",
            "0    H    F   Normal  0.0  1.0  0.0\n",
            "1    H    T     High  0.0  1.0  0.0\n",
            "2    H    F   Normal  1.0  0.0  0.0\n",
            "3    M    F   Normal  0.0  0.0  1.0\n",
            "4    M    F   Normal  0.0  0.0  1.0\n"
          ]
        }
      ]
    }
  ]
}
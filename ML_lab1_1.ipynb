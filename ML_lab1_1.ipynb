{
  "nbformat": 4,
  "nbformat_minor": 0,
  "metadata": {
    "colab": {
      "name": "ML-lab1-1.ipynb",
      "provenance": []
    },
    "kernelspec": {
      "name": "python3",
      "display_name": "Python 3"
    },
    "language_info": {
      "name": "python"
    }
  },
  "cells": [
    {
      "cell_type": "code",
      "execution_count": 1,
      "metadata": {
        "colab": {
          "base_uri": "https://localhost:8080/"
        },
        "id": "6vfrGQZeVuUh",
        "outputId": "51296673-4c28-4d07-df9b-148e9cbf08cc"
      },
      "outputs": [
        {
          "output_type": "stream",
          "name": "stdout",
          "text": [
            "[nltk_data] Downloading package movie_reviews to /root/nltk_data...\n",
            "[nltk_data]   Unzipping corpora/movie_reviews.zip.\n",
            "['pos/cv000_29590.txt', 'pos/cv001_18431.txt', 'pos/cv002_15918.txt', 'pos/cv003_11664.txt', 'pos/cv004_11636.txt', 'pos/cv005_29443.txt', 'pos/cv006_15448.txt', 'pos/cv007_4968.txt', 'pos/cv008_29435.txt', 'pos/cv009_29592.txt']\n",
            "['neg/cv000_29416.txt', 'neg/cv001_19502.txt', 'neg/cv002_17424.txt', 'neg/cv003_12683.txt', 'neg/cv004_12641.txt', 'neg/cv005_29357.txt', 'neg/cv006_17022.txt', 'neg/cv007_4992.txt', 'neg/cv008_29326.txt', 'neg/cv009_29417.txt']\n"
          ]
        }
      ],
      "source": [
        "import nltk                                \n",
        "from nltk.corpus import movie_reviews as mr\n",
        "import matplotlib.pyplot as plt            \n",
        "import random    \n",
        "import os\n",
        "from collections import defaultdict\n",
        "reviews = nltk.download('movie_reviews')\n",
        "documents = defaultdict(list)\n",
        "\n",
        "for i in mr.fileids():\n",
        "    documents[i.split('/')[0]].append(i)\n",
        "\n",
        "print(documents['pos'][:10]) \n",
        "pos_review = documents['pos'][:10]\n",
        "print(documents['neg'][:10])\n",
        "neg_review = documents['neg'][:10]"
      ]
    },
    {
      "cell_type": "code",
      "source": [
        "#Draw Scatter Plot between SepalLengthCm and SepalWidthCm for \"Iris.csv\" file with proper labelling.\n",
        "\n",
        "import matplotlib.pyplot as plt\n",
        "import pandas as pd\n",
        "import io\n",
        "\n",
        "data = pd.read_csv('Iris.csv')\n",
        "\n",
        "plt.scatter(data['SepalLengthCm'], data['SepalWidthCm'])\n",
        "\n",
        "plt.title(\"SepalLength vs Sepalwidth\")\n",
        "plt.xlabel(\"SepalLength (cm)\")\n",
        "plt.ylabel(\"SepalWidth (cm)\")\n",
        "\n",
        "plt.show()"
      ],
      "metadata": {
        "colab": {
          "base_uri": "https://localhost:8080/",
          "height": 295
        },
        "id": "XoRSIqhUXIaz",
        "outputId": "6033b9fe-7b37-4787-9d5d-63e48aa2c566"
      },
      "execution_count": 2,
      "outputs": [
        {
          "output_type": "display_data",
          "data": {
            "image/png": "[encoded data removed]",
            "text/plain": [
              "<Figure size 432x288 with 1 Axes>"
            ]
          },
          "metadata": {
            "needs_background": "light"
          }
        }
      ]
    },
    {
      "cell_type": "code",
      "source": [
        "#Draw Histogram of SepalLengthCm with proper labelling.\n",
        "\n",
        "plt.hist(data['SepalLengthCm'], bins=5)\n",
        "\n",
        "plt.title(\"Frequency distribution of SepalLength\")\n",
        "plt.xlabel(\"SepalLength (cm)\")\n",
        "plt.ylabel(\"Frequency\")\n",
        "\n",
        "plt.show()"
      ],
      "metadata": {
        "colab": {
          "base_uri": "https://localhost:8080/",
          "height": 295
        },
        "id": "MEoGaz4VXQOg",
        "outputId": "a753e306-e72d-425d-9b0a-1609c77987b1"
      },
      "execution_count": 3,
      "outputs": [
        {
          "output_type": "display_data",
          "data": {
            "image/png": "[encoded data removed]",
            "text/plain": [
              "<Figure size 432x288 with 1 Axes>"
            ]
          },
          "metadata": {
            "needs_background": "light"
          }
        }
      ]
    },
    {
      "cell_type": "code",
      "source": [
        "#Plot bar chart of Species.\n",
        "\n",
        "species = {}\n",
        "for row in data.values:\n",
        "  if row[5] in species.keys():\n",
        "    species[row[5]] = species[row[5]] + 1\n",
        "  else:\n",
        "    species[row[5]] = 1\n",
        "\n",
        "plt.bar(list(species.keys()), list(species.values()))\n",
        "\n",
        "plt.xlabel(\"Species\")\n",
        "plt.ylabel(\"Count\")\n",
        "\n",
        "plt.show()"
      ],
      "metadata": {
        "colab": {
          "base_uri": "https://localhost:8080/",
          "height": 279
        },
        "id": "xzWeyYZmXT28",
        "outputId": "e7bda9fc-c169-4b30-82ef-04a7c234a223"
      },
      "execution_count": 4,
      "outputs": [
        {
          "output_type": "display_data",
          "data": {
            "image/png": "[encoded data removed]",
            "text/plain": [
              "<Figure size 432x288 with 1 Axes>"
            ]
          },
          "metadata": {
            "needs_background": "light"
          }
        }
      ]
    },
    {
      "cell_type": "code",
      "source": [
        "#Count total null values for each column in this dataset.\n",
        "\n",
        "print(\"Total null values in each column : \\n\")\n",
        "print(data.isnull().sum())"
      ],
      "metadata": {
        "colab": {
          "base_uri": "https://localhost:8080/"
        },
        "id": "WqmyBlltXYFo",
        "outputId": "0d10443f-ec4c-46c1-ade1-a98f73f35f8d"
      },
      "execution_count": 5,
      "outputs": [
        {
          "output_type": "stream",
          "name": "stdout",
          "text": [
            "Total null values in each column : \n",
            "\n",
            "Id               0\n",
            "SepalLengthCm    0\n",
            "SepalWidthCm     0\n",
            "PetalLengthCm    0\n",
            "PetalWidthCm     0\n",
            "Species          0\n",
            "dtype: int64\n"
          ]
        }
      ]
    },
    {
      "cell_type": "code",
      "source": [
        "#Print first 5 rows of SepalLengthCm.\n",
        "\n",
        "print(\"First 5 rows of SepalLengthCm : \\n\")\n",
        "print(data.loc[:4, 'SepalLengthCm'])"
      ],
      "metadata": {
        "colab": {
          "base_uri": "https://localhost:8080/"
        },
        "id": "l4qLC-uTXaq8",
        "outputId": "cfca9107-7a19-4a16-d288-73e9d8333e31"
      },
      "execution_count": 6,
      "outputs": [
        {
          "output_type": "stream",
          "name": "stdout",
          "text": [
            "First 5 rows of SepalLengthCm : \n",
            "\n",
            "0    5.1\n",
            "1    4.9\n",
            "2    4.7\n",
            "3    4.6\n",
            "4    5.0\n",
            "Name: SepalLengthCm, dtype: float64\n"
          ]
        }
      ]
    },
    {
      "cell_type": "code",
      "source": [
        "#Print from 5th row and onwards and entire column of Iris.csv dataset.\n",
        "\n",
        "print(\"5th row onwards and entire columns : \\n\")\n",
        "print(data.loc[5:])"
      ],
      "metadata": {
        "colab": {
          "base_uri": "https://localhost:8080/"
        },
        "id": "yg602aqaXdjZ",
        "outputId": "1a4497f7-1b18-4b05-caed-b53b570f7681"
      },
      "execution_count": 7,
      "outputs": [
        {
          "output_type": "stream",
          "name": "stdout",
          "text": [
            "5th row onwards and entire columns : \n",
            "\n",
            "      Id  SepalLengthCm  ...  PetalWidthCm         Species\n",
            "5      6            5.4  ...           0.4     Iris-setosa\n",
            "6      7            4.6  ...           0.3     Iris-setosa\n",
            "7      8            5.0  ...           0.2     Iris-setosa\n",
            "8      9            4.4  ...           0.2     Iris-setosa\n",
            "9     10            4.9  ...           0.1     Iris-setosa\n",
            "..   ...            ...  ...           ...             ...\n",
            "145  146            6.7  ...           2.3  Iris-virginica\n",
            "146  147            6.3  ...           1.9  Iris-virginica\n",
            "147  148            6.5  ...           2.0  Iris-virginica\n",
            "148  149            6.2  ...           2.3  Iris-virginica\n",
            "149  150            5.9  ...           1.8  Iris-virginica\n",
            "\n",
            "[145 rows x 6 columns]\n"
          ]
        }
      ]
    },
    {
      "cell_type": "code",
      "source": [
        "from sklearn import datasets\n",
        "\n",
        "ds = datasets.fetch_california_housing()\n",
        "\n",
        "x = ds.data\n",
        "y = ds.target\n",
        "\n",
        "print(ds.DESCR)\n",
        "print(\"Feature names : \\n\", ds.feature_names)\n",
        "print(\"\\nTarget names : \\n\", ds.target_names) \n",
        "print(\"\\nFirst 3 rows : \\n\", x[:3])"
      ],
      "metadata": {
        "colab": {
          "base_uri": "https://localhost:8080/"
        },
        "id": "akflgtDJXjXa",
        "outputId": "00398b9b-88d5-4dab-dbb1-2f14fe1b8347"
      },
      "execution_count": 8,
      "outputs": [
        {
          "output_type": "stream",
          "name": "stdout",
          "text": [
            ".. _california_housing_dataset:\n",
            "\n",
            "California Housing dataset\n",
            "--------------------------\n",
            "\n",
            "**Data Set Characteristics:**\n",
            "\n",
            "    :Number of Instances: 20640\n",
            "\n",
            "    :Number of Attributes: 8 numeric, predictive attributes and the target\n",
            "\n",
            "    :Attribute Information:\n",
            "        - MedInc        median income in block group\n",
            "        - HouseAge      median house age in block group\n",
            "        - AveRooms      average number of rooms per household\n",
            "        - AveBedrms     average number of bedrooms per household\n",
            "        - Population    block group population\n",
            "        - AveOccup      average number of household members\n",
            "        - Latitude      block group latitude\n",
            "        - Longitude     block group longitude\n",
            "\n",
            "    :Missing Attribute Values: None\n",
            "\n",
            "This dataset was obtained from the StatLib repository.\n",
            "https://www.dcc.fc.up.pt/~ltorgo/Regression/cal_housing.html\n",
            "\n",
            "The target variable is the median house value for California districts,\n",
            "expressed in hundreds of thousands of dollars ($100,000).\n",
            "\n",
            "This dataset was derived from the 1990 U.S. census, using one row per census\n",
            "block group. A block group is the smallest geographical unit for which the U.S.\n",
            "Census Bureau publishes sample data (a block group typically has a population\n",
            "of 600 to 3,000 people).\n",
            "\n",
            "An household is a group of people residing within a home. Since the average\n",
            "number of rooms and bedrooms in this dataset are provided per household, these\n",
            "columns may take surpinsingly large values for block groups with few households\n",
            "and many empty houses, such as vacation resorts.\n",
            "\n",
            "It can be downloaded/loaded using the\n",
            ":func:`sklearn.datasets.fetch_california_housing` function.\n",
            "\n",
            ".. topic:: References\n",
            "\n",
            "    - Pace, R. Kelley and Ronald Barry, Sparse Spatial Autoregressions,\n",
            "      Statistics and Probability Letters, 33 (1997) 291-297\n",
            "\n",
            "Feature names : \n",
            " ['MedInc', 'HouseAge', 'AveRooms', 'AveBedrms', 'Population', 'AveOccup', 'Latitude', 'Longitude']\n",
            "\n",
            "Target names : \n",
            " ['MedHouseVal']\n",
            "\n",
            "First 3 rows : \n",
            " [[ 8.32520000e+00  4.10000000e+01  6.98412698e+00  1.02380952e+00\n",
            "   3.22000000e+02  2.55555556e+00  3.78800000e+01 -1.22230000e+02]\n",
            " [ 8.30140000e+00  2.10000000e+01  6.23813708e+00  9.71880492e-01\n",
            "   2.40100000e+03  2.10984183e+00  3.78600000e+01 -1.22220000e+02]\n",
            " [ 7.25740000e+00  5.20000000e+01  8.28813559e+00  1.07344633e+00\n",
            "   4.96000000e+02  2.80225989e+00  3.78500000e+01 -1.22240000e+02]]\n"
          ]
        }
      ]
    }
  ]
}